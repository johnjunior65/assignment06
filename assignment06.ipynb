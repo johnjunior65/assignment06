{
 "cells": [
  {
   "cell_type": "markdown",
   "metadata": {},
   "source": [
    "# Name : In-Sang Song\n",
    "# Student ID : 2018120201"
   ]
  },
  {
   "cell_type": "markdown",
   "metadata": {},
   "source": [
    "# Link to github : [assignment06 github](https://github.com/johnjunior65/assignment06.git)"
   ]
  },
  {
   "cell_type": "markdown",
   "metadata": {},
   "source": [
    "## input 값 x와 noise가 들어간 output 값 y에 대한 그래프입니다."
   ]
  },
  {
   "cell_type": "code",
   "execution_count": 4,
   "metadata": {},
   "outputs": [
    {
     "data": {
      "image/png": "[encoded data removed]",
      "text/plain": [
       "<Figure size 432x288 with 1 Axes>"
      ]
     },
     "metadata": {
      "needs_background": "light"
     },
     "output_type": "display_data"
    }
   ],
   "source": [
    "import numpy as np\n",
    "import matplotlib.pyplot as plt\n",
    "\n",
    "num     = 201\n",
    "std     = 20\n",
    "a       = 2 \n",
    "b       = 10\n",
    "\n",
    "n       = np.random.rand(num)\n",
    "nn      = n - np.mean(n)\n",
    "x       = np.linspace(-100,100,num)\n",
    "y1      = a * x + nn * std + b \n",
    "y2      = a * x + b\n",
    "\n",
    "plt.plot(x, y1, 'b.')\n",
    "plt.show()"
   ]
  },
  {
   "cell_type": "markdown",
   "metadata": {},
   "source": [
    "## 위의 x와 y1에 대하여 교재 슬라이드 13.9 페이지에 나온 매트릭스 형태로 나타낼수 있습니다."
   ]
  },
  {
   "cell_type": "markdown",
   "metadata": {},
   "source": [
    "### A matrix\n",
    "$\\begin{bmatrix}\n",
    "1 & X_1 \\\\\n",
    "1 & X_2 \\\\\n",
    "1 & X_3 \\\\\n",
    ". & . \\\\\n",
    ". & . \\\\\n",
    ". & . \\\\\n",
    "1 & X_n \\\\\n",
    "\\end{bmatrix}$"
   ]
  },
  {
   "cell_type": "markdown",
   "metadata": {},
   "source": [
    "### $\\theta$ matrix\n",
    "$\\begin{bmatrix}\n",
    "10 \\\\\n",
    "2 \\\\\n",
    "\\end{bmatrix}$"
   ]
  },
  {
   "cell_type": "markdown",
   "metadata": {},
   "source": [
    "### y matrix\n",
    "$\\begin{bmatrix}\n",
    "y_1 \\\\\n",
    "y_2 \\\\\n",
    "y_3 \\\\\n",
    ". \\\\\n",
    ". \\\\\n",
    ". \\\\\n",
    "y_n \\\\\n",
    "\\end{bmatrix}$"
   ]
  },
  {
   "cell_type": "markdown",
   "metadata": {},
   "source": [
    "### A$\\theta$ = y\n",
    "\n",
    "### ($X_i = x_i + 10 * nn_i$)"
   ]
  },
  {
   "cell_type": "markdown",
   "metadata": {},
   "source": [
    "### 위대로 매트릭스를 짜면 주어진 noisy data를 만족합니다."
   ]
  },
  {
   "cell_type": "markdown",
   "metadata": {},
   "source": [
    "## 교재 슬라이드 13.9페이지에 나온 식을 이용하여 noisy data에 line fitting할 수 있습니다."
   ]
  },
  {
   "cell_type": "markdown",
   "metadata": {},
   "source": [
    "## $\\hat{y} =  avg(y^d) + \\rho\\frac{std(y^d)}{std(X^d)}(X - avg(X^d))$\n",
    "\n",
    "### ( $X^d = (X_1, ... , X_n)$ )"
   ]
  },
  {
   "cell_type": "markdown",
   "metadata": {},
   "source": [
    "### $std(y^d)$ 가 RMS error이기 때문에 rms error값을 구해주는 rms함수를 정의해주었습니다."
   ]
  },
  {
   "cell_type": "code",
   "execution_count": 10,
   "metadata": {},
   "outputs": [],
   "source": [
    "from numpy import mean, sqrt, square\n",
    "\n",
    "def rms(a) :\n",
    "    rms = sqrt(mean(square(a)))\n",
    "    return rms"
   ]
  },
  {
   "cell_type": "markdown",
   "metadata": {},
   "source": [
    "### 상단의 식에서 $\\hat{y}$를 계산해주었습니다.\n",
    "### $\\rho$ 값은 기울기에 영향을 주는 값이어서 임의로 1로해주었습니다."
   ]
  },
  {
   "cell_type": "code",
   "execution_count": 26,
   "metadata": {},
   "outputs": [
    {
     "data": {
      "image/png": "[encoded data removed]",
      "text/plain": [
       "<Figure size 432x288 with 1 Axes>"
      ]
     },
     "metadata": {
      "needs_background": "light"
     },
     "output_type": "display_data"
    }
   ],
   "source": [
    "xx = x + 10 * nn\n",
    "\n",
    "yy = np.mean(y1) + (xx - np.mean(xx)) * rms(y1) / rms(xx)\n",
    "\n",
    "plt.plot(x, y1, 'b.')\n",
    "plt.plot(xx, yy, 'r', linewidth = 3)\n",
    "plt.show()"
   ]
  },
  {
   "cell_type": "code",
   "execution_count": null,
   "metadata": {},
   "outputs": [],
   "source": []
  }
 ],
 "metadata": {
  "kernelspec": {
   "display_name": "Python 3",
   "language": "python",
   "name": "python3"
  },
  "language_info": {
   "codemirror_mode": {
    "name": "ipython",
    "version": 3
   },
   "file_extension": ".py",
   "mimetype": "text/x-python",
   "name": "python",
   "nbconvert_exporter": "python",
   "pygments_lexer": "ipython3",
   "version": "3.7.0"
  }
 },
 "nbformat": 4,
 "nbformat_minor": 2
}
